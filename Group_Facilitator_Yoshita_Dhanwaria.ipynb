{
 "cells": [
  {
   "cell_type": "markdown",
   "id": "8dca0973-d563-4dd5-abad-90c27f3120ac",
   "metadata": {},
   "source": [
    "## Lending Club Case Study "
   ]
  },
  {
   "cell_type": "markdown",
   "id": "02e3dfdc-b279-4e09-9b98-716aab17cd58",
   "metadata": {},
   "source": [
    "#### Importing all the required libraries"
   ]
  },
  {
   "cell_type": "code",
   "execution_count": null,
   "id": "5585027e-d997-4da2-9970-6e15250267c6",
   "metadata": {},
   "outputs": [],
   "source": [
    "import pandas as pd\n",
    "import numpy as np \n",
    "import matplotlib.pyplot as plt \n",
    "import seaborn as sns\n",
    "import os \n",
    "import time \n",
    "import re\n",
    "import warnings\n",
    "warnings.filterwarnings('ignore')"
   ]
  },
  {
   "cell_type": "code",
   "execution_count": null,
   "id": "aa775adb-965c-4dca-bdb0-43d7783dd7f1",
   "metadata": {},
   "outputs": [],
   "source": [
    "pd.set_option('display.max_columns', None)\n",
    "pd.set_option('display.max.rows',None)"
   ]
  },
  {
   "cell_type": "markdown",
   "id": "05e0d348-99c9-486e-8c68-08913eca359b",
   "metadata": {},
   "source": [
    "#### Reading the lending case study file"
   ]
  },
  {
   "cell_type": "code",
   "execution_count": null,
   "id": "cbb3a5f2-a3c4-4869-8bb2-90eafc065dfe",
   "metadata": {},
   "outputs": [],
   "source": [
    "df = pd.read_csv('loan.csv')"
   ]
  },
  {
   "cell_type": "code",
   "execution_count": null,
   "id": "cc80ec87-7a6d-4fee-873a-6c73a597596a",
   "metadata": {},
   "outputs": [],
   "source": [
    "# checking the dimension of the dataset\n",
    "df.shape"
   ]
  },
  {
   "cell_type": "code",
   "execution_count": null,
   "id": "6a1df08d-22c5-4ee5-9a6b-c6d098cec730",
   "metadata": {},
   "outputs": [],
   "source": [
    "# printing top two rows of the dataset \n",
    "df.head(2)"
   ]
  },
  {
   "cell_type": "code",
   "execution_count": null,
   "id": "5684230e-5b15-41b9-b685-74ab8a73b670",
   "metadata": {
    "scrolled": true
   },
   "outputs": [],
   "source": [
    "#checking the column data types\n",
    "df.dtypes"
   ]
  },
  {
   "cell_type": "code",
   "execution_count": null,
   "id": "7f57d78d-1c11-4d91-a6df-622075bcb542",
   "metadata": {
    "scrolled": true
   },
   "outputs": [],
   "source": [
    "# checking the missing percentage in the data set \n",
    "round((df.isnull().sum()/len(df))*100,2)"
   ]
  },
  {
   "cell_type": "markdown",
   "id": "5ae15828-49bb-488a-a63f-7b23ba4fbace",
   "metadata": {},
   "source": [
    "#### Since there seem to be lot of Null values in many columns we will filter out columns having more than 100% NULL and create a new dataframe"
   ]
  },
  {
   "cell_type": "code",
   "execution_count": null,
   "id": "0c0c9700-7177-4ad0-8de5-d3cc865b87ed",
   "metadata": {},
   "outputs": [],
   "source": [
    "# dropping the columns that are having 100 % missing \n",
    "# creating variable list that needs to be dropped \n",
    "columns_to_drop = df.columns[df.isnull().sum()/len(df)*100 == 100]\n",
    "print(columns_to_drop)"
   ]
  },
  {
   "cell_type": "code",
   "execution_count": null,
   "id": "8f15f4ce-28c2-481d-bebe-7980992db409",
   "metadata": {},
   "outputs": [],
   "source": [
    "df1 = df.drop(columns = columns_to_drop)"
   ]
  },
  {
   "cell_type": "code",
   "execution_count": null,
   "id": "efbdb766-c4d1-4aca-b6bf-9cb2508b7c67",
   "metadata": {},
   "outputs": [],
   "source": [
    "# checking the dimension after dropping the variables\n",
    "df1.shape"
   ]
  },
  {
   "cell_type": "markdown",
   "id": "f8a5612d-9a80-4d34-afcb-72b6a3b95579",
   "metadata": {},
   "source": [
    "#### Checking if in dataset we have columns that has only one unique value "
   ]
  },
  {
   "cell_type": "code",
   "execution_count": null,
   "id": "dafce88e-426c-449c-8fad-d762b39cac31",
   "metadata": {},
   "outputs": [],
   "source": [
    "single_value_col_list = [ i for i in df1.columns if df[i].nunique() == 1]"
   ]
  },
  {
   "cell_type": "code",
   "execution_count": null,
   "id": "bf169a98-9413-4691-aa1d-947883a4c66b",
   "metadata": {
    "scrolled": true
   },
   "outputs": [],
   "source": [
    "print(single_value_col_list)"
   ]
  },
  {
   "cell_type": "code",
   "execution_count": null,
   "id": "663ace76-c778-4f5b-9b5c-2fb220ce7468",
   "metadata": {},
   "outputs": [],
   "source": [
    "# dropping above columns as they have one unique value \n",
    "df2 = df1.drop(columns = single_value_col_list)"
   ]
  },
  {
   "cell_type": "code",
   "execution_count": null,
   "id": "df0bb09c-e81a-4031-8862-ad2bbc639fb7",
   "metadata": {},
   "outputs": [],
   "source": [
    "# checking the dimension after dropping the variables\n",
    "df2.shape"
   ]
  },
  {
   "cell_type": "markdown",
   "id": "601308c0-bbec-4625-b0ec-527d75e13b68",
   "metadata": {},
   "source": [
    "#### checking if we have duplicate rows in dataset "
   ]
  },
  {
   "cell_type": "code",
   "execution_count": null,
   "id": "c9cffd53-d45e-451c-ac29-c1c281e6bf93",
   "metadata": {},
   "outputs": [],
   "source": [
    "# checking if we have duplicate rows in dataset \n",
    "df2[df2.duplicated()]"
   ]
  },
  {
   "cell_type": "code",
   "execution_count": null,
   "id": "5583cd8f-ec3f-451b-bfe1-a4c467143205",
   "metadata": {
    "scrolled": true
   },
   "outputs": [],
   "source": [
    "df2.info()"
   ]
  },
  {
   "cell_type": "markdown",
   "id": "52e0044f-d87d-4ef4-839f-02397a733d2b",
   "metadata": {},
   "source": [
    "#### changing the column type  "
   ]
  },
  {
   "cell_type": "code",
   "execution_count": null,
   "id": "51c72dda-705e-4f27-9d6f-62de3a3269b3",
   "metadata": {},
   "outputs": [],
   "source": [
    "df2['int_rate'] = df2['int_rate'].str[:-1].astype(float)\n",
    "df2['int_rate'].dtype"
   ]
  },
  {
   "cell_type": "code",
   "execution_count": null,
   "id": "b5be57f3-d904-47d0-a76c-23033df2b7be",
   "metadata": {},
   "outputs": [],
   "source": [
    "df2['revol_util'] = df2['revol_util'].str[:-1].astype(float)\n",
    "df2['revol_util'].dtype"
   ]
  },
  {
   "cell_type": "code",
   "execution_count": null,
   "id": "c84d7867-6727-46ca-82b9-ca10db0a6692",
   "metadata": {},
   "outputs": [],
   "source": [
    "df2['issue_d'] = pd.to_datetime(df2['issue_d'] , format = '%b-%y')\n",
    "df2['issue_d'].dtype"
   ]
  },
  {
   "cell_type": "code",
   "execution_count": null,
   "id": "2cfc3e28-979a-4638-974f-16e2ab3aeeeb",
   "metadata": {},
   "outputs": [],
   "source": [
    "df2['earliest_cr_line'] = pd.to_datetime(df2['earliest_cr_line'] , format = '%b-%y')\n",
    "df2['earliest_cr_line'].dtype"
   ]
  },
  {
   "cell_type": "code",
   "execution_count": null,
   "id": "2e5b55a3-14c0-4424-a18c-4cad83248637",
   "metadata": {},
   "outputs": [],
   "source": [
    "df2['earliest_cr_line'] = pd.to_datetime(df2['earliest_cr_line'] , format = '%b-%y')\n",
    "df2['earliest_cr_line'].dtype"
   ]
  },
  {
   "cell_type": "code",
   "execution_count": null,
   "id": "ceb69770-6c5b-4336-ba27-56358b4a92fa",
   "metadata": {},
   "outputs": [],
   "source": [
    "df2['next_pymnt_d'] = pd.to_datetime(df2['next_pymnt_d'] , format = '%b-%y')\n",
    "df2['next_pymnt_d'].dtype"
   ]
  },
  {
   "cell_type": "code",
   "execution_count": null,
   "id": "81e64276-b8f6-4de3-b42e-d71d1669ec3e",
   "metadata": {},
   "outputs": [],
   "source": [
    "df2['last_credit_pull_d'] = pd.to_datetime(df2['last_credit_pull_d'] , format = '%b-%y')\n",
    "df2['last_credit_pull_d'].dtype"
   ]
  },
  {
   "cell_type": "code",
   "execution_count": null,
   "id": "286adb15-b3f0-44b8-981c-6b5c46ca9f37",
   "metadata": {},
   "outputs": [],
   "source": [
    "df2['last_pymnt_d'] = pd.to_datetime(df2['last_pymnt_d'] , format = '%b-%y')\n",
    "df2['last_pymnt_d'].dtype"
   ]
  },
  {
   "cell_type": "markdown",
   "id": "47f92488-4078-4056-8d97-cd7aee19e66b",
   "metadata": {},
   "source": [
    "#### writing function to check unique values for categorical variable"
   ]
  },
  {
   "cell_type": "code",
   "execution_count": null,
   "id": "8d971e2e-4d02-4253-aca0-b4cbd502bd56",
   "metadata": {},
   "outputs": [],
   "source": [
    "def unique_value_category_variable(df):\n",
    "\n",
    "    # get the list of columns which has dtype as Object\n",
    "    obj_col = df.select_dtypes(include = ['object']).columns\n",
    "    # get the number of unique values for each object columns\n",
    "    unique_count = df[obj_col].nunique()\n",
    "    # sort the counts in descending order\n",
    "    sorted_unique_counts = unique_count.sort_values(ascending=False)\n",
    "    return sorted_unique_counts"
   ]
  },
  {
   "cell_type": "code",
   "execution_count": null,
   "id": "173d908f-66fc-4e01-b207-b60ab51e479c",
   "metadata": {},
   "outputs": [],
   "source": [
    "unique_value_category_variable(df2)"
   ]
  },
  {
   "cell_type": "code",
   "execution_count": null,
   "id": "c7e5d2b6-b19c-44cf-af91-20dc02c998b3",
   "metadata": {},
   "outputs": [],
   "source": [
    "# dropping columns having too many values  --> emp_title , desc ,url ,title,zip_code\n",
    "drop_list = ['emp_title' , 'desc' ,'url' ,'title','zip_code']\n",
    "df2.drop(columns = drop_list , inplace=True)"
   ]
  },
  {
   "cell_type": "code",
   "execution_count": null,
   "id": "e9fe9822-c2bd-432c-a5fd-9933f7cc068f",
   "metadata": {},
   "outputs": [],
   "source": [
    "df2.shape"
   ]
  },
  {
   "cell_type": "code",
   "execution_count": null,
   "id": "d584be35-6ccb-48d4-82ab-2f8131bd1122",
   "metadata": {},
   "outputs": [],
   "source": [
    "#dropping columns having more than 90% missing \n",
    "list_more_90per_missing = df2.columns[df2.isnull().sum()/len(df2)*100 >= 90]\n",
    "print(list_more_90per_missing)"
   ]
  },
  {
   "cell_type": "code",
   "execution_count": null,
   "id": "609c0a50-c3d7-4a00-9211-1a7b3f849f3a",
   "metadata": {},
   "outputs": [],
   "source": [
    "df2.drop(columns = list_more_90per_missing ,inplace = True)\n",
    "df2.shape"
   ]
  },
  {
   "cell_type": "markdown",
   "id": "d86f0382-4a01-4e04-86dc-afe4d11e4770",
   "metadata": {},
   "source": [
    "#### Drop additional columns which are not needed further in analysis"
   ]
  },
  {
   "cell_type": "code",
   "execution_count": null,
   "id": "9d654c70-7405-415e-94cc-18a5a3bde433",
   "metadata": {},
   "outputs": [],
   "source": [
    "drop_list = ['id','member_id','funded_amnt_inv','issue_d','revol_bal','out_prncp','out_prncp_inv',\n",
    "             'total_pymnt_inv','recoveries','collection_recovery_fee','last_pymnt_d','last_pymnt_amnt','last_credit_pull_d']"
   ]
  },
  {
   "cell_type": "code",
   "execution_count": null,
   "id": "f5f99007-d5d9-44f6-8d98-404538c2bee0",
   "metadata": {},
   "outputs": [],
   "source": [
    "df2.drop(columns= drop_list , inplace= True)"
   ]
  },
  {
   "cell_type": "code",
   "execution_count": null,
   "id": "4dc8b2cb-d7e6-489b-a00e-ec123a1c4af2",
   "metadata": {},
   "outputs": [],
   "source": [
    "df2.shape"
   ]
  },
  {
   "cell_type": "markdown",
   "id": "b4a83592-6e4d-4d80-8e95-3945cb8d0dbc",
   "metadata": {},
   "source": [
    "#### creating box plots for numeric variables "
   ]
  },
  {
   "cell_type": "code",
   "execution_count": null,
   "id": "83fd211e-2cd0-4894-a236-7d14facf259a",
   "metadata": {},
   "outputs": [],
   "source": [
    "# Create a box plot for column 'loan_amnt'\n",
    "plt.figure(figsize=(4, 3))\n",
    "sns.boxplot(y=df2['loan_amnt'], color='lightblue')\n",
    "plt.title('Box Plot for loan_amnt',fontsize=8)\n",
    "plt.xlabel('Values of loan_amnt',fontsize=8)\n",
    "plt.tight_layout()\n",
    "plt.show()"
   ]
  },
  {
   "cell_type": "code",
   "execution_count": null,
   "id": "ed8b63ad-eabe-49b4-9c93-f710af3f63fb",
   "metadata": {},
   "outputs": [],
   "source": [
    "# Create a box plot for column 'funded_amnt'\n",
    "plt.figure(figsize=(4, 3))\n",
    "sns.boxplot(y=df2['funded_amnt'], color='lightblue')\n",
    "plt.title('Box Plot for funded_amnt',fontsize=8)\n",
    "plt.xlabel('Values of funded_amnt',fontsize=8)\n",
    "plt.tight_layout()\n",
    "plt.show()"
   ]
  },
  {
   "cell_type": "code",
   "execution_count": null,
   "id": "635ed666-7104-45d5-8e74-084ecb2ab4fe",
   "metadata": {},
   "outputs": [],
   "source": [
    "# Create a box plot for column 'annual_inc'\n",
    "plt.figure(figsize=(5, 7))\n",
    "sns.boxplot(y=df2['annual_inc'], color='lightblue')\n",
    "plt.title('Box Plot for annual_inc',fontsize=8)\n",
    "plt.xlabel('Values of annual_inc',fontsize=8)\n",
    "plt.tight_layout()\n",
    "plt.show()"
   ]
  },
  {
   "cell_type": "code",
   "execution_count": null,
   "id": "a76f2b15-7ca5-4c67-bd95-5818e064f461",
   "metadata": {},
   "outputs": [],
   "source": [
    "# Create a box plot for column 'installment'\n",
    "plt.figure(figsize=(4, 3))\n",
    "sns.boxplot(y=df2['installment'], color='lightblue')\n",
    "plt.title('Box Plot for installment',fontsize=8)\n",
    "plt.xlabel('Values of installment',fontsize=8)\n",
    "plt.tight_layout()\n",
    "plt.show()"
   ]
  },
  {
   "cell_type": "code",
   "execution_count": null,
   "id": "779c5e15-dc8c-48e9-9d0d-bb50bfe421b9",
   "metadata": {},
   "outputs": [],
   "source": [
    "\n",
    "# Create a box plot for column 'dti'\n",
    "plt.figure(figsize=(4, 3))\n",
    "sns.boxplot(y=df2['dti'], color='lightblue')\n",
    "plt.title('Box Plot for dti',fontsize=8)\n",
    "plt.xlabel('Values of dti',fontsize=8)\n",
    "plt.tight_layout()\n",
    "plt.show()"
   ]
  },
  {
   "cell_type": "code",
   "execution_count": null,
   "id": "87bf4397-e529-45fc-be11-7812a6ffca67",
   "metadata": {},
   "outputs": [],
   "source": [
    "# Create a box plot for column 'int_rate'\n",
    "plt.figure(figsize=(4, 3))\n",
    "sns.boxplot(y=df2['int_rate'], color='lightblue')\n",
    "plt.title('Box Plot for int_rate',fontsize=8)\n",
    "plt.xlabel('Values of int_rate',fontsize=8)\n",
    "plt.tight_layout()\n",
    "plt.show()"
   ]
  },
  {
   "cell_type": "code",
   "execution_count": null,
   "id": "79c894f4-7107-48c6-b917-4843e2dfa613",
   "metadata": {},
   "outputs": [],
   "source": [
    "df2[['int_rate','dti','installment','annual_inc','funded_amnt','loan_amnt']].quantile([.10,.25,.50,.75,.95,.99])"
   ]
  },
  {
   "cell_type": "markdown",
   "id": "a9fc2815-5d88-4861-a917-d397110e8e21",
   "metadata": {},
   "source": [
    "#### Key observations\n",
    "\n",
    "1. The annual income of most of the loan applicants is between 40,404 - 82,300 \n",
    "2. The loan amount of most of the loan applicants is between 5,500 - 15,000\n",
    "3. The funded amount by investor for most of the loan applicants is between 5,400 - 15,000 \n",
    "4. The interest rate on the loan is between 9.25% - 14.59%\n",
    "5. The monthly installment amount on the loan is between 167 - 430\n",
    "6. The debt to income ration is between 8.17 - 18.60"
   ]
  },
  {
   "cell_type": "markdown",
   "id": "732af796-62cf-4b01-bbd7-cb7569f4c023",
   "metadata": {},
   "source": [
    "#### Creating a binary loan_status variable, where \"Charged Off\" is assigned a value of 1 and all other statuses are assigned a value of 0."
   ]
  },
  {
   "cell_type": "code",
   "execution_count": null,
   "id": "0c442e99-cfe3-4b31-9627-20f4b9e89466",
   "metadata": {},
   "outputs": [],
   "source": [
    "df2['binary_loan_status'] = df2['loan_status'].apply(lambda x : 1 if x==\"Charged Off\" else 0)\n",
    "df2['binary_loan_status_1'] = df2['loan_status'].apply(lambda x : \"Charged Off\" if x == \"Charged Off\" else \"Fully Paid/Current\")"
   ]
  },
  {
   "cell_type": "code",
   "execution_count": null,
   "id": "f5d51eb5-cd96-48c2-9da8-7b86bc456a65",
   "metadata": {},
   "outputs": [],
   "source": [
    "df2['binary_loan_status'].value_counts()"
   ]
  },
  {
   "cell_type": "code",
   "execution_count": null,
   "id": "ce426f78-8b6d-454b-a4b7-df7e5014e96b",
   "metadata": {},
   "outputs": [],
   "source": [
    "df2['binary_loan_status_1'].value_counts()"
   ]
  },
  {
   "cell_type": "code",
   "execution_count": null,
   "id": "4e001e85-0a73-4842-b5e3-778e704fe9f7",
   "metadata": {},
   "outputs": [],
   "source": [
    "## checking if the variable is created correct \n",
    "df2['loan_status'].value_counts()"
   ]
  },
  {
   "cell_type": "code",
   "execution_count": null,
   "id": "dfaa46e3-7b0e-4054-9aab-cd2d5942c66a",
   "metadata": {},
   "outputs": [],
   "source": [
    "# Plot the bar chart\n",
    "plt.figure(figsize=(7, 6))\n",
    "ax = sns.countplot(x='binary_loan_status_1', data=df2, palette='colorblind')\n",
    "\n",
    "# Calculate the total number of entries and percentages\n",
    "total = len(df2)\n",
    "for p in ax.patches:\n",
    "    height = p.get_height()  # Get the height of each bar\n",
    "    percentage = (height / total) * 100  # Calculate the percentage\n",
    "    ax.text(p.get_x() + p.get_width() / 2., height + 0.05, f'{percentage:.1f}%', ha='center', va='bottom', fontsize=12)\n",
    "\n",
    "# Add title and labels\n",
    "plt.title('Loan Status (Charged Off vs Other) with Percentages')\n",
    "plt.xlabel('Loan Status')\n",
    "plt.ylabel('Count')\n",
    "\n",
    "# Set x-ticks to show labels\n",
    "# plt.xticks([0, 1], ['Fully Paid/Current', 'Fully Charged Off'], rotation=0)\n",
    "plt.xticks( rotation=0)\n",
    "# Show the plot\n",
    "plt.show()"
   ]
  },
  {
   "cell_type": "code",
   "execution_count": null,
   "id": "4df3906c-5546-4d94-a528-4640515adc94",
   "metadata": {},
   "outputs": [],
   "source": [
    "plt.figure(figsize=(5,7))\n",
    "ax = (df2.groupby('binary_loan_status_1').total_pymnt.sum() * 100 / df2.groupby('binary_loan_status_1').loan_amnt.sum()).plot.bar(color=['red', 'green'])\n",
    "ax.set_ylabel('Recovery (%)')\n",
    "ax.set_xlabel('Loan Status')\n",
    "plt.margins(0.2, 0.2)\n",
    "plt.xticks(rotation=360)\n",
    "\n",
    "for p in ax.patches:\n",
    "    ax.annotate(format(p.get_height(), '.2f'), \n",
    "                   (p.get_x() + p.get_width() / 2., p.get_height()), \n",
    "                   ha = 'center', va = 'center', \n",
    "                   xytext = (0, -12), \n",
    "                   textcoords = 'offset points')"
   ]
  },
  {
   "cell_type": "markdown",
   "id": "d5418e8a-4e6e-4b23-9409-abc2b764b704",
   "metadata": {},
   "source": [
    "### Univariate Analysis"
   ]
  },
  {
   "cell_type": "markdown",
   "id": "7c6b5a76-bd79-4150-a470-206fd940fb1d",
   "metadata": {},
   "source": [
    "#### Categorical variables"
   ]
  },
  {
   "cell_type": "markdown",
   "id": "ff9b78cb-1965-4756-ac51-6c207040e605",
   "metadata": {},
   "source": [
    "1. Ordered categorical data\n",
    "   1. Grade (grade)\n",
    "   2. Sub grade (sub_grade)\n",
    "\n",
    "2. Unordered categorical data\n",
    "    1. Loan purpose (purpose)\n",
    "    2. Home Ownership (home_ownership)"
   ]
  },
  {
   "cell_type": "markdown",
   "id": "9aa142d3-0ed5-47e5-aca7-446d50ca0da6",
   "metadata": {},
   "source": [
    "#### Let's analyse Ordered Categorical variable : Grade "
   ]
  },
  {
   "cell_type": "code",
   "execution_count": null,
   "id": "c775109a-a09e-49bd-b5bd-997d50c76075",
   "metadata": {},
   "outputs": [],
   "source": [
    "# plotting the distribution of purpose of grade \n",
    "\n",
    "# Count the values and sort them in descending order\n",
    "sorted_purpose = df2['grade'].value_counts().index\n",
    "\n",
    "# Plot the bar chart\n",
    "plt.figure(figsize=(20, 5))\n",
    "ax = sns.countplot(x='grade', data=df2, palette='colorblind', order=sorted_purpose)\n",
    "\n",
    "# Calculate the total number of entries and percentages\n",
    "total = len(df2)\n",
    "for p in ax.patches:\n",
    "    height = p.get_height()  # Get the height of each bar\n",
    "    percentage = (height / total) * 100  # Calculate the percentage\n",
    "    ax.text(p.get_x() + p.get_width() / 2., height + 0.05, f'{percentage:.1f}%', ha='center', va='bottom', fontsize=12)\n",
    "\n",
    "# Add title and labels\n",
    "plt.title('Distribution of grades (with Percentages)')\n",
    "plt.xlabel('Grade')\n",
    "plt.ylabel('Percentage')\n",
    "\n",
    "# Set x-ticks to show labels\n",
    "plt.xticks(rotation=55, ha='right') \n",
    "\n",
    "# Show the plot\n",
    "plt.tight_layout()  # Adjust the layout to prevent clipping\n",
    "plt.show()"
   ]
  },
  {
   "cell_type": "code",
   "execution_count": null,
   "id": "9cc34929-2e2c-4fff-82f3-fb66c7c20765",
   "metadata": {
    "scrolled": true
   },
   "outputs": [],
   "source": [
    "# df2.groupby('binary_loan_status_1')['grade'].value_counts(normalize=True).reset_index(name = 'count')\n",
    "# int_rates = pd.crosstab(df2['grade'],df2['binary_loan_status']).apply(lambda r: r/r.sum()*100, axis=0).reset_index()\n",
    "# int_rates\n",
    "pd.crosstab(df2['grade'],df2['binary_loan_status'], normalize=False)"
   ]
  },
  {
   "cell_type": "code",
   "execution_count": null,
   "id": "607d78a1-8f78-4f3c-b191-6b467fccc17e",
   "metadata": {},
   "outputs": [],
   "source": [
    "grade = pd.crosstab(df2['grade'],df2['binary_loan_status'], normalize=False).apply(lambda r: r/r.sum()*100, axis=0).reset_index()"
   ]
  },
  {
   "cell_type": "code",
   "execution_count": null,
   "id": "51fe37bd-f36d-42cb-9eb1-46fddcea3d87",
   "metadata": {},
   "outputs": [],
   "source": [
    "print(grade.head(10).rename(columns={0:'Not Charged Off', 1:\"Charged Off\"}))\n",
    "plt.figure(figsize=(10,8))\n",
    "splot = sns.barplot(x = 'grade',y=1, data = grade,palette='colorblind')\n",
    "\n",
    "sns.set(font_scale=1)\n",
    "splot.axes.set_title(\"Grade & Defaults\",fontsize=15)\n",
    "splot.set_xlabel(\"X Label\",fontsize = 15)\n",
    "splot.set_ylabel(\"Y Label\",fontsize=15)\n",
    "splot.tick_params(labelsize=15)\n",
    "\n",
    "splot.set(xlabel='Grade', ylabel='Percentage of Charged Off')\n",
    "\n",
    "for p in splot.patches:\n",
    "    splot.annotate(format(p.get_height(), '.1f'), (p.get_x() + p.get_width() / 2., p.get_height()*1.005), ha = 'center', va = 'center', xytext = (0, 22), textcoords = 'offset points')\n"
   ]
  },
  {
   "cell_type": "markdown",
   "id": "954cb329-cbc6-452c-a850-f80563cb37b7",
   "metadata": {},
   "source": [
    "#### Let's analyse Ordered Categorical variable : Sub Grade"
   ]
  },
  {
   "cell_type": "code",
   "execution_count": null,
   "id": "43149445-a2ee-42e0-8a61-4b4a595dc606",
   "metadata": {},
   "outputs": [],
   "source": [
    "fig, ax = plt.subplots(figsize=(12,7))\n",
    "sns.countplot(df2['sub_grade'], palette='colorblind')\n",
    "for container in ax.containers:\n",
    "    ax.bar_label(container, fontsize=10)\n",
    "plt.title('Sub Grade')\n",
    "plt.xlabel('Loan Application Count')\n",
    "plt.ylabel('Sub Grade Type')\n",
    "plt.show()"
   ]
  },
  {
   "cell_type": "code",
   "execution_count": null,
   "id": "9eb52b9f-8f14-4623-9803-80beecef4441",
   "metadata": {},
   "outputs": [],
   "source": [
    "pd.crosstab(df2['grade'],df2['sub_grade'])"
   ]
  },
  {
   "cell_type": "markdown",
   "id": "bfcbe4c6-9688-4e61-9f4e-d2b1c7926385",
   "metadata": {},
   "source": [
    "#### given sub grade is subcategory of grade hence no additional insight can be generated"
   ]
  },
  {
   "cell_type": "markdown",
   "id": "856bed5e-3c0c-4a8d-aa56-67f2b2fcc8a0",
   "metadata": {},
   "source": [
    "#### Let's analyse unordered categorical variable : purpose of the loan"
   ]
  },
  {
   "cell_type": "code",
   "execution_count": null,
   "id": "5c145084-c5d6-4d6a-ad20-d42501d7ed10",
   "metadata": {},
   "outputs": [],
   "source": [
    "df2['purpose'].value_counts(normalize = True)*100"
   ]
  },
  {
   "cell_type": "code",
   "execution_count": null,
   "id": "7cf24215-ef27-414c-a421-3e563f06b84c",
   "metadata": {
    "scrolled": true
   },
   "outputs": [],
   "source": [
    "# plotting the distribution of purpose of loan \n",
    "\n",
    "# Count the values and sort them in descending order\n",
    "sorted_purpose = df2['purpose'].value_counts().index\n",
    "\n",
    "# Plot the bar chart\n",
    "plt.figure(figsize=(20, 5))\n",
    "ax = sns.countplot(x='purpose', data=df2, palette='colorblind', order=sorted_purpose)\n",
    "\n",
    "# Calculate the total number of entries and percentages\n",
    "total = len(df2)\n",
    "for p in ax.patches:\n",
    "    height = p.get_height()  # Get the height of each bar\n",
    "    percentage = (height / total) * 100  # Calculate the percentage\n",
    "    ax.text(p.get_x() + p.get_width() / 2., height + 0.05, f'{percentage:.1f}%', ha='center', va='bottom', fontsize=12)\n",
    "\n",
    "# Add title and labels\n",
    "plt.title('Purpose of taking loan(with Percentages)')\n",
    "plt.xlabel('Purpose of taking loan')\n",
    "plt.ylabel('Percentage')\n",
    "\n",
    "# Set x-ticks to show labels\n",
    "plt.xticks(rotation=90, ha='right') \n",
    "\n",
    "# Show the plot\n",
    "plt.tight_layout()  # Adjust the layout to prevent clipping\n",
    "plt.show()\n"
   ]
  },
  {
   "cell_type": "markdown",
   "id": "f2ef3469-845e-4790-b29c-a6899f07bbbd",
   "metadata": {},
   "source": [
    "### Let's analyse another unordered categorical variable : Home ownership"
   ]
  },
  {
   "cell_type": "code",
   "execution_count": null,
   "id": "c99744ae-0489-453b-95d6-df6f76dfb622",
   "metadata": {},
   "outputs": [],
   "source": [
    "# plotting the distribution of purpose of loan \n",
    "\n",
    "# Count the values and sort them in descending order\n",
    "sorted_purpose = df2['home_ownership'].value_counts().index\n",
    "\n",
    "# Plot the bar chart\n",
    "plt.figure(figsize=(20, 5))\n",
    "ax = sns.countplot(x='home_ownership', data=df2, palette='colorblind', order=sorted_purpose)\n",
    "\n",
    "# Calculate the total number of entries and percentages\n",
    "total = len(df2)\n",
    "for p in ax.patches:\n",
    "    height = p.get_height()  # Get the height of each bar\n",
    "    percentage = (height / total) * 100  # Calculate the percentage\n",
    "    ax.text(p.get_x() + p.get_width() / 2., height + 0.05, f'{percentage:.1f}%', ha='center', va='bottom', fontsize=12)\n",
    "\n",
    "# Add title and labels\n",
    "plt.title('Home_ownership(with Percentages)')\n",
    "plt.xlabel('Home_ownership')\n",
    "plt.ylabel('Percentage')\n",
    "\n",
    "# Set x-ticks to show labels\n",
    "plt.xticks(rotation=0, ha='right') \n",
    "\n",
    "# Show the plot\n",
    "plt.tight_layout()  # Adjust the layout to prevent clipping\n",
    "plt.show()"
   ]
  },
  {
   "cell_type": "code",
   "execution_count": null,
   "id": "2bac669e-3db5-409f-83e1-51e3165e2500",
   "metadata": {},
   "outputs": [],
   "source": [
    "pd.crosstab(df2['home_ownership'],df2['binary_loan_status'])"
   ]
  },
  {
   "cell_type": "code",
   "execution_count": null,
   "id": "09b8e1c6-605f-4d66-8bb7-5b1939e5d4a9",
   "metadata": {},
   "outputs": [],
   "source": [
    "home_ownership = pd.crosstab(df2['home_ownership'],df2['binary_loan_status']).apply(lambda r: r/r.sum()*100, axis=1).reset_index()\n",
    "print(home_ownership.head(10).rename(columns={0:'Not Charged Off', 1:\"Charged Off\"}))\n",
    "plt.figure(figsize=(12,8))\n",
    "splot = sns.barplot(x = 'home_ownership',y=1, data = home_ownership,palette='colorblind')\n",
    "\n",
    "sns.set(font_scale=1)\n",
    "splot.axes.set_title(\"Homeownership & Defaults\",fontsize=20)\n",
    "splot.set_xlabel(\"X Label\",fontsize = 15)\n",
    "splot.set_ylabel(\"Y Label\",fontsize=15)\n",
    "splot.tick_params(labelsize=15)\n",
    "\n",
    "splot.set(xlabel='Homeownership', ylabel='Percentage of Charged Off')\n",
    "\n",
    "for p in splot.patches:\n",
    "    splot.annotate(format(p.get_height(), '.1f'), (p.get_x() + p.get_width() / 2., p.get_height()*1.005), ha = 'center', va = 'center', xytext = (0, 20), textcoords = 'offset points')\n"
   ]
  },
  {
   "cell_type": "markdown",
   "id": "d8c5a3b9-0832-4add-bc23-f7dbcef5c7df",
   "metadata": {},
   "source": [
    "## Bivariate Analysis"
   ]
  },
  {
   "cell_type": "markdown",
   "id": "ab28c8e9-5a5e-491c-95a4-722b94e9d319",
   "metadata": {},
   "source": [
    "### Let's see at which rate interest rates are distributed and analyse it with other features"
   ]
  },
  {
   "cell_type": "code",
   "execution_count": null,
   "id": "a4950bfb-ae9c-4685-8522-a3bfe854afa7",
   "metadata": {},
   "outputs": [],
   "source": [
    "# Plot the histogram\n",
    "plt.figure(figsize=(7, 4))\n",
    "sns.histplot(df2['int_rate'], kde=False, color='blue', bins=30)  # Adjust 'bins' for granularity\n",
    "plt.title('Distribution of Interest rate')\n",
    "plt.xlabel('Interest Rate')\n",
    "plt.ylabel('#Borrowers')\n",
    "plt.tight_layout()\n",
    "plt.show()"
   ]
  },
  {
   "cell_type": "code",
   "execution_count": null,
   "id": "d79a8feb-043a-4de8-86e0-de5dbf321610",
   "metadata": {},
   "outputs": [],
   "source": [
    "sns.distplot(df2['int_rate'], hist=True, kde=True, \n",
    "             bins=int(180/5), color = 'blue',\n",
    "             hist_kws={'edgecolor':'black'})\n",
    "plt.show()\n"
   ]
  },
  {
   "cell_type": "code",
   "execution_count": null,
   "id": "27c64860-77ab-4299-8e6c-463c791cf97c",
   "metadata": {},
   "outputs": [],
   "source": [
    "   \n",
    "sns.distplot(df2['int_rate'], hist = True, kde = True, rug = True,\n",
    "             color = 'darkblue', \n",
    "             kde_kws={'linewidth': 3},\n",
    "             rug_kws={'color': 'black'})\n",
    "\n",
    "# Plot formatting\n",
    "plt.title('Distribution of Interest Rates',fontsize=20)\n",
    "plt.xlabel('Interest Rates',fontsize=20)\n",
    "plt.ylabel('# Borrowers',fontsize=20)"
   ]
  },
  {
   "cell_type": "code",
   "execution_count": null,
   "id": "f329a09a-eb1f-4b14-b1d8-e7b754f7330a",
   "metadata": {},
   "outputs": [],
   "source": [
    "int_rate = df2.groupby([ 'purpose','binary_loan_status'])['int_rate'].median().reset_index()\n",
    "print(int_rate)"
   ]
  },
  {
   "cell_type": "code",
   "execution_count": null,
   "id": "9a7fcb4d-7e3c-4b34-87c9-afe51f1dda18",
   "metadata": {},
   "outputs": [],
   "source": [
    "plt.figure(figsize=(18,7))\n",
    "splot =sns.barplot(x= 'purpose',y='int_rate',hue = 'binary_loan_status_1',data= df2, palette='colorblind',linewidth = 0.5)\n",
    "\n",
    "sns.set(font_scale=1)\n",
    "splot.set_xlabel(\"X Label\",fontsize=18)\n",
    "splot.set_ylabel(\"Y Label\",fontsize=18)\n",
    "splot.tick_params(labelsize=12, rotation =45)\n",
    "splot.set_title(\"Purpose Vs Interest Rate\", fontsize=20)\n",
    "splot.set(xlabel='Purpose', ylabel='Percentage')"
   ]
  },
  {
   "cell_type": "code",
   "execution_count": null,
   "id": "95de061b-f867-4329-8e03-21c24b21a5db",
   "metadata": {},
   "outputs": [],
   "source": [
    "df2['int_rates'] = df2['int_rate'].astype(int)\n",
    "int_rates = df2.groupby('binary_loan_status')['int_rates'].value_counts(normalize= True).reset_index(name = 'count')\n",
    "int_rates = pd.crosstab(df2['int_rates'],df2['binary_loan_status']).apply(lambda r: r/r.sum()*100, axis=1).reset_index()\n",
    "print(int_rates.head(10).rename(columns={0:'Not Charged Off', 1:\"Charged Off\"}))\n",
    "plt.figure(figsize=(12,8))\n",
    "splot = sns.barplot(x = 'int_rates',y=1, data = int_rates,palette='colorblind')\n",
    "\n",
    "sns.set(font_scale=1)\n",
    "splot.axes.set_title(\"Interest Rates & Defaults\",fontsize=20)\n",
    "splot.set_xlabel(\"X Label\",fontsize = 15)\n",
    "splot.set_ylabel(\"Y Label\",fontsize=15)\n",
    "splot.tick_params(labelsize=15)\n",
    "\n",
    "splot.set(xlabel='Interest Rate', ylabel='Percentage of Charged Off')\n",
    "\n",
    "for p in splot.patches:\n",
    "    splot.annotate(format(p.get_height(), '.1f'), (p.get_x() + p.get_width() / 2., p.get_height()*1.005), ha = 'center', va = 'center', xytext = (0, 20), textcoords = 'offset points')\n"
   ]
  },
  {
   "cell_type": "markdown",
   "id": "39099c9f-302e-4571-99e8-86d7138e929c",
   "metadata": {},
   "source": [
    "#### Here we can see as interest rate increases percentage of charged off increases"
   ]
  },
  {
   "cell_type": "markdown",
   "id": "487d38fb-8e4a-4bdd-8db0-bbdbcc753a8d",
   "metadata": {},
   "source": [
    "### Lets see if derogatory public record has affect on default and interest rate given to them"
   ]
  },
  {
   "cell_type": "code",
   "execution_count": null,
   "id": "f88ea8ba-c799-4b93-ac7c-7466f3650bdb",
   "metadata": {},
   "outputs": [],
   "source": [
    "df2['pub_rec'].value_counts(normalize = True)"
   ]
  },
  {
   "cell_type": "markdown",
   "id": "c0a6c1d3-9c04-461e-90c8-03d133341d10",
   "metadata": {},
   "source": [
    "#### Here we see 95% of people dont have bad record but whosoever has 1 or above derogatory record let's see how they affect loan default percentage"
   ]
  },
  {
   "cell_type": "code",
   "execution_count": null,
   "id": "0fa8903d-6603-40fe-9bdc-68a9f0c15760",
   "metadata": {},
   "outputs": [],
   "source": [
    "pub_rec = pd.crosstab(df2['purpose'],df2['loan_status']).apply(lambda r: r/r.sum()*100, axis=1).reset_index()\n",
    "#print(pub_rec)\n",
    "\n",
    "splot = sns.barplot(x = 'purpose',y='Charged Off', data = pub_rec,palette='colorblind')\n",
    "\n",
    "sns.set(font_scale=1)\n",
    "splot.set_xlabel(\"X Label\",fontsize = 20)\n",
    "splot.set_ylabel(\"Y Label\",fontsize=20)\n",
    "splot.tick_params(labelsize=15, rotation=90)\n",
    "\n",
    "\n",
    "\n",
    "\n",
    "sns.set(rc={'figure.figsize':(10,9)})\n",
    "splot.set(xlabel='purpose', ylabel='Percentage of Charged Off')\n",
    "plt.title(\"Purpose Vs % Charged Off\", fontsize=20)\n",
    "\n",
    "for p in splot.patches:\n",
    "    splot.annotate(format(p.get_height(), '.2f'), (p.get_x() + p.get_width() / 2., p.get_height()*1.005), ha = 'center', va = 'center', xytext = (0, 20), textcoords = 'offset points')\n",
    "    "
   ]
  },
  {
   "cell_type": "markdown",
   "id": "faf540b5-5bba-44c8-8d1e-67da35f23a42",
   "metadata": {},
   "source": [
    "#### Major loan purpose of majority of defaulters is small business"
   ]
  },
  {
   "cell_type": "markdown",
   "id": "c2ba0210-acc3-424b-b85f-2d0104600006",
   "metadata": {},
   "source": [
    "#### Lets explore the main column 'Loan Status'"
   ]
  },
  {
   "cell_type": "code",
   "execution_count": null,
   "id": "915b6043-469c-4b27-b5cf-069d52d63cf6",
   "metadata": {},
   "outputs": [],
   "source": [
    "\n",
    "# Count the values and sort them in descending order\n",
    "sorted_purpose = df2['binary_loan_status'].value_counts().index\n",
    "\n",
    "# Plot the bar chart\n",
    "plt.figure(figsize=(20, 5))\n",
    "ax = sns.countplot(x='binary_loan_status', data=df2, palette='colorblind', order=sorted_purpose)\n",
    "\n",
    "# Calculate the total number of entries and percentages\n",
    "total = len(df2)\n",
    "for p in ax.patches:\n",
    "    height = p.get_height()  # Get the height of each bar\n",
    "    percentage = (height / total) * 100  # Calculate the percentage\n",
    "    ax.text(p.get_x() + p.get_width() / 2., height + 0.05, f'{percentage:.1f}%', ha='center', va='bottom', fontsize=12)\n",
    "\n",
    "# Add title and labels\n",
    "plt.title('Distribution of loan status')\n",
    "plt.xlabel('Loan Status')\n",
    "plt.ylabel('Loan Count')\n",
    "\n",
    "# Set x-ticks to show labels\n",
    "plt.xticks(rotation=0, ha='right') \n",
    "\n",
    "# Show the plot\n",
    "plt.tight_layout()  # Adjust the layout to prevent clipping\n",
    "plt.show()\n"
   ]
  },
  {
   "cell_type": "markdown",
   "id": "20b00fd5-faf3-4fde-aa7d-46e663d95f1a",
   "metadata": {},
   "source": [
    "#### We will analyse Loan distribution across states, let's see which state has highest loan charged off or ongoing loans"
   ]
  },
  {
   "cell_type": "code",
   "execution_count": null,
   "id": "5cf3b0f4-9223-4458-92c7-c9f6338d2f87",
   "metadata": {},
   "outputs": [],
   "source": [
    "addr_state = df2['addr_state'].value_counts().reset_index(name = \"Count\").rename(columns={'index':\"State\"})\n",
    "print(addr_state.head())\n",
    "print(\"\")\n",
    "print(addr_state.tail())"
   ]
  },
  {
   "cell_type": "markdown",
   "id": "de163996-c396-4559-9d31-79cfe81ce9f0",
   "metadata": {},
   "source": [
    "#### There are few states with very less loan accounts, lets dig deeper and check distribution of loan status among them. We need to find which state has highest charge off¶"
   ]
  },
  {
   "cell_type": "code",
   "execution_count": null,
   "id": "cba26c58-ca66-4803-8fd3-ca9648e3166f",
   "metadata": {
    "scrolled": true
   },
   "outputs": [],
   "source": [
    "state_loanstatus = pd.crosstab(df2['addr_state'], df2['binary_loan_status']).apply(lambda r: r/r.sum(), axis=1)\n",
    "state_loanstatus = pd.merge(addr_state,state_loanstatus, right_on = 'addr_state', left_on = 'addr_state')\n",
    "print(state_loanstatus)"
   ]
  },
  {
   "cell_type": "markdown",
   "id": "248acf09-291e-4d2a-a5d1-0492dbde1c2a",
   "metadata": {},
   "source": [
    "#### Dividing states into groups on the basis of their number of loan accounts and taking top 5 risky states within the top bin"
   ]
  },
  {
   "cell_type": "code",
   "execution_count": null,
   "id": "86faa502-58bc-40ac-a951-eef418971b7e",
   "metadata": {},
   "outputs": [],
   "source": [
    "bin_labels = ['2-82','83-251', '252-544','545-1245','1246-8000']\n",
    "state_loanstatus['count_state_bins'], bin_edges = pd.qcut(state_loanstatus.Count,  q=[0, .2, .4, .6, .8, 1],labels = bin_labels , precision =1, retbins = True )\n",
    "state_loanstatus=state_loanstatus.rename(columns={0:'Not Charged Off',1:'Charged Off'})\n",
    "st_top=state_loanstatus[state_loanstatus.count_state_bins==\"1246-8000\"]\n",
    "print(st_top.nlargest(5,'Charged Off'))"
   ]
  },
  {
   "cell_type": "markdown",
   "id": "a4d14541-abce-4c36-a288-267cd58a6219",
   "metadata": {},
   "source": [
    "#### Finding rows with highest charged off rate from each bin"
   ]
  },
  {
   "cell_type": "code",
   "execution_count": null,
   "id": "ef8cd9e7-ee08-4833-9ef5-e56d5caab234",
   "metadata": {},
   "outputs": [],
   "source": [
    "states_max_chargeoff = state_loanstatus[state_loanstatus.groupby('count_state_bins')['Charged Off'].transform(max)==state_loanstatus['Charged Off']]\n",
    "print(states_max_chargeoff)"
   ]
  },
  {
   "cell_type": "markdown",
   "id": "e94ff1bc-0090-41ff-9d16-3419e02e2287",
   "metadata": {},
   "source": [
    "#### So these are few states in each category with highest defaults"
   ]
  },
  {
   "cell_type": "code",
   "execution_count": null,
   "id": "e46e43fb-809e-40f8-8a42-99b5b6295e1f",
   "metadata": {},
   "outputs": [],
   "source": [
    "state_loanstatus['Charged Off'].describe()"
   ]
  },
  {
   "cell_type": "markdown",
   "id": "66548664-7381-4204-93f3-30eccc4bcd85",
   "metadata": {},
   "source": [
    "#### We can see median of 13.13% of loans are charged off across the country which isnt very different from the mean suggesting less skew"
   ]
  },
  {
   "cell_type": "markdown",
   "id": "71ee2a58-b1a6-4c70-88d7-841c49ad1907",
   "metadata": {},
   "source": [
    "#### Lets see how Annual Income affect Loan repayment status "
   ]
  },
  {
   "cell_type": "code",
   "execution_count": null,
   "id": "9a29b756-edd1-43f2-9c51-82adb63a31ba",
   "metadata": {},
   "outputs": [],
   "source": [
    "df2['annual_inc'].describe()"
   ]
  },
  {
   "cell_type": "markdown",
   "id": "3007d396-3029-4055-92f2-0cc0fe8ad511",
   "metadata": {},
   "source": [
    "#### We can see huge variation in annual income ranging from USD 3971 to USD 6000000. We can group them into categories like low income group or high income group."
   ]
  },
  {
   "cell_type": "code",
   "execution_count": null,
   "id": "88ef3513-d237-43f2-8301-e0de567bbbc3",
   "metadata": {},
   "outputs": [],
   "source": [
    "bin_labels= ['Bronze', 'Silver', 'Gold', 'Platinum', 'Diamond']\n",
    "\n",
    "df2['annual_inc_bins'],bin_edges = pd.qcut(df2['annual_inc'],  q=[0, .2, .4, .6, .8, 1] ,labels = bin_labels , precision =1, retbins = True )\n",
    "results = df2['annual_inc_bins'].unique()\n",
    "print(df2[['annual_inc','annual_inc_bins']].head())"
   ]
  },
  {
   "cell_type": "code",
   "execution_count": null,
   "id": "d6981e40-63b4-40ef-b259-9bf5fd0cd697",
   "metadata": {},
   "outputs": [],
   "source": [
    "print(bin_edges)"
   ]
  },
  {
   "cell_type": "markdown",
   "id": "c8030769-23a4-470f-96a3-8b1102fba381",
   "metadata": {},
   "source": [
    "#### We can see the threshold of each Category is\n",
    "    1. Bronze - 4,000-37,500\n",
    "    2. Silver - 37,501-50,400\n",
    "    3. Gold - 50,401-65,844\n",
    "    4. Platinum - 65,845-90,000 \n",
    "    5. Diamond - 90001- 6000000"
   ]
  },
  {
   "cell_type": "markdown",
   "id": "85b59dc4-5532-48a8-8645-d5391d11f31b",
   "metadata": {},
   "source": [
    "#### Distribution of funded amount across income bins, e.g., Bronze - min, median, mean, max\n"
   ]
  },
  {
   "cell_type": "code",
   "execution_count": null,
   "id": "5c656fa1-5e4e-47b4-8961-8c562f133ba9",
   "metadata": {},
   "outputs": [],
   "source": [
    "df2.groupby(['annual_inc_bins'])['funded_amnt'].describe().round(2).reset_index()\n",
    "sns.boxplot(x = df2['annual_inc_bins'], \n",
    "            y = df2['funded_amnt'],palette='colorblind')\n",
    "plt.xlabel(\"Annual income bins\",fontsize = 20)\n",
    "plt.ylabel(\"Funded Amount\",fontsize=20)\n"
   ]
  },
  {
   "attachments": {},
   "cell_type": "markdown",
   "id": "ae6e653d-6443-4381-acf7-29f059680126",
   "metadata": {},
   "source": [
    "#### Funds amounts are proportionally more based on their annual income"
   ]
  },
  {
   "cell_type": "code",
   "execution_count": null,
   "id": "f9f9c91c-00fa-469c-8fa0-ca76d962c61a",
   "metadata": {},
   "outputs": [],
   "source": [
    "inc_loanstatus = pd.crosstab(df2['annual_inc_bins'], df2['binary_loan_status']).apply(lambda r: r/r.sum(), axis=1).reset_index().rename(columns={0:'Not Charged Off',1:'Charged Off'}).sort_values('Charged Off', ascending = False)\n",
    "print(inc_loanstatus)"
   ]
  },
  {
   "cell_type": "markdown",
   "id": "470a8b28-b2b6-4cce-bc3a-a950d088bf85",
   "metadata": {},
   "source": [
    "#### Here we can see the charged off is decreasing as income category is increasing, there is difference of almost 10% in Diamond and Bronze category"
   ]
  },
  {
   "cell_type": "code",
   "execution_count": null,
   "id": "3200931f-8b47-4cd9-afa4-52b19631c097",
   "metadata": {},
   "outputs": [],
   "source": [
    "sns.set(rc={'figure.figsize':(21.7,8.27)})\n",
    "sns.barplot(x = 'annual_inc_bins', y = 'Charged Off',data=inc_loanstatus,\n",
    "            palette='colorblind')\n",
    "plt.xlabel(\"Annual income bins\",fontsize = 20)\n",
    "plt.ylabel(\"% Charge Off\",fontsize=20)"
   ]
  },
  {
   "cell_type": "markdown",
   "id": "c425a90e-dd38-4af4-8b99-2966134209f5",
   "metadata": {},
   "source": [
    "#### Low salary income slab applicants are taking defaults compared to upper bracket annual salary loan applicants"
   ]
  },
  {
   "cell_type": "markdown",
   "id": "bc81da41-00e7-4201-936a-f6c13645ea6f",
   "metadata": {},
   "source": [
    "#### Analysing earliest credit line to check if younger ones are more likely to default"
   ]
  },
  {
   "cell_type": "code",
   "execution_count": null,
   "id": "8d18c9f6-a02c-480d-a43f-eeaffaa40e7f",
   "metadata": {},
   "outputs": [],
   "source": [
    "df2['earliest_cr_line'].describe()"
   ]
  },
  {
   "cell_type": "code",
   "execution_count": null,
   "id": "6f3fa29f-1b92-4709-a6de-22124fd55e20",
   "metadata": {},
   "outputs": [],
   "source": [
    "# extracting year from 'earliest_cr_line'\n",
    "\n",
    "df2['earliest_cr_line_year']= df2['earliest_cr_line'].dt.year"
   ]
  },
  {
   "cell_type": "code",
   "execution_count": null,
   "id": "e9678d7d-801d-49e1-9224-dc7f50e6c802",
   "metadata": {},
   "outputs": [],
   "source": [
    "df2 = df2[df2['earliest_cr_line_year']<2010]"
   ]
  },
  {
   "cell_type": "code",
   "execution_count": null,
   "id": "63595fe9-e0dd-48e6-9d45-3d276e788b3b",
   "metadata": {},
   "outputs": [],
   "source": [
    "df2['earliest_cr_line_bins'], bin_edges = pd.qcut(df2['earliest_cr_line_year'],q=[0, .2, .4, .6, .8, 1]  , precision =1, retbins = True )"
   ]
  },
  {
   "cell_type": "code",
   "execution_count": null,
   "id": "8e363e02-3500-43a5-b808-e9f6dda19131",
   "metadata": {},
   "outputs": [],
   "source": [
    "credit_line_bins_crosstab = pd.crosstab(df2['earliest_cr_line_bins'], df2['binary_loan_status']).apply(lambda r: r/r.sum(), axis=1).reset_index().rename(columns={0:'Not Charged Off',1:'Charged Off'}).sort_values('Charged Off', ascending = False)\n",
    "print(credit_line_bins_crosstab)"
   ]
  },
  {
   "cell_type": "markdown",
   "id": "57d637c4-1318-4894-a9db-e4c30a8fbd93",
   "metadata": {},
   "source": [
    "#### Here we can see there is slight increase of 2% from first category to last category"
   ]
  },
  {
   "cell_type": "markdown",
   "id": "17e8b2d3-c1ae-4564-a160-633d9bdba046",
   "metadata": {},
   "source": [
    "#### We will see how length of employment affects the status of loan"
   ]
  },
  {
   "cell_type": "code",
   "execution_count": null,
   "id": "ff95a567-2da8-454e-84ed-de96e86ef44d",
   "metadata": {
    "scrolled": true
   },
   "outputs": [],
   "source": [
    "print(df2.emp_length.unique())\n",
    "print('Number of NA values are {}'.format(df2.emp_length.isnull().sum()))\n",
    "df2['emp_length'] = df2['emp_length'].replace({'N/A': None, ' year': '', ' years': '', r'\\D+': ''}, regex=True).astype(float)\n",
    "print(df2.emp_length)"
   ]
  },
  {
   "cell_type": "markdown",
   "id": "d9d04f1a-dbc7-4306-949a-f1e078313dd3",
   "metadata": {},
   "source": [
    "#### Here we will assign the years of service to some category like Senior, Mid Level or Fresher"
   ]
  },
  {
   "cell_type": "code",
   "execution_count": null,
   "id": "98974765-f095-494b-a73e-16f9ae01179b",
   "metadata": {
    "scrolled": true
   },
   "outputs": [],
   "source": [
    "df2['emp_exp']=np.where(df2.emp_length>6,'Senior',np.where(df2.emp_length>2,'Mid Level', np.where(df2.emp_length<3,'Fresher','Nan')))\n",
    "print(df2['emp_exp'].value_counts(normalize=True))"
   ]
  },
  {
   "cell_type": "code",
   "execution_count": null,
   "id": "4130566f-8884-4622-8764-84e004223148",
   "metadata": {},
   "outputs": [],
   "source": [
    "exp_bins_crosstab = pd.crosstab(df2['emp_exp'], df2['binary_loan_status']).apply(lambda r: r/r.sum(), axis=1).reset_index().rename(columns={0:'Not Charged Off',1:'Charged Off'}).sort_values('Charged Off', ascending = False)\n",
    "print(exp_bins_crosstab)"
   ]
  },
  {
   "cell_type": "code",
   "execution_count": null,
   "id": "dba8cfd9-2993-42eb-9fb3-13fdac6d5ff4",
   "metadata": {},
   "outputs": [],
   "source": [
    "#Default Percentages AT THE ROW LEVEL\n",
    "\n",
    "#df_wna.pivot_table(index = ['emp_exp', 'annual_inc_bins'], columns = 'binary_loan_status', values='count').apply(lambda r: r/r.sum(), axis=1)\n",
    "a = df2.groupby(['emp_exp','annual_inc_bins'])['binary_loan_status'].value_counts().reset_index(name = 'count')\n",
    "a.pivot_table(index = ['annual_inc_bins','emp_exp'], columns = 'binary_loan_status', values='count').apply(lambda r: r/r.sum(), axis=1)"
   ]
  },
  {
   "cell_type": "code",
   "execution_count": null,
   "id": "17eaed5a-9b85-4e38-857f-654882bddd86",
   "metadata": {},
   "outputs": [],
   "source": [
    "pd.crosstab(df2['emp_exp'], df2['binary_loan_status']).apply(lambda r: r/r.sum(), axis=1).rename(columns={0:'Not Charged Off',1:'Charged Off'}).sort_values('Charged Off', ascending=False)"
   ]
  },
  {
   "cell_type": "markdown",
   "id": "e625da5f-b285-4807-a80f-3dcefecb2077",
   "metadata": {},
   "source": [
    "#### Not much of a variation by years of experience"
   ]
  },
  {
   "cell_type": "markdown",
   "id": "ce5aa8b6-bd43-4f3a-bc5e-019d26de2c45",
   "metadata": {},
   "source": [
    "#### We will analyse effect of debt to income ratio on Status of loan, lets see if high DTI leads to more charge off"
   ]
  },
  {
   "cell_type": "code",
   "execution_count": null,
   "id": "92aab289-f061-4883-bdb0-ce3f7cfe055a",
   "metadata": {},
   "outputs": [],
   "source": [
    "print(df2['dti'].describe())"
   ]
  },
  {
   "cell_type": "markdown",
   "id": "3ae392f1-453a-480f-9308-0522707bc5f9",
   "metadata": {},
   "source": [
    "#### Lets see distribution of debt to income ratio in Loan Status and Annual income categories"
   ]
  },
  {
   "cell_type": "code",
   "execution_count": null,
   "id": "d096be08-22ea-468c-bdc2-e0e2490f4e69",
   "metadata": {},
   "outputs": [],
   "source": [
    "dti_analysis = df2.groupby(['annual_inc_bins','binary_loan_status'])['dti'].median().reset_index()\n",
    "dti_analysis = dti_analysis.pivot(index='annual_inc_bins', columns='binary_loan_status', values='dti').rename(columns={0:'Not Charged Off',1:'Charged Off'}).sort_values('Charged Off', ascending = False)\n",
    "print(dti_analysis)\n"
   ]
  },
  {
   "cell_type": "markdown",
   "id": "95f3458b-1f07-4570-8917-880e63e04e7b",
   "metadata": {},
   "source": [
    "### We will put DTI into three categories and find out if there is any significant increase in charged off among three categories"
   ]
  },
  {
   "cell_type": "code",
   "execution_count": null,
   "id": "3d6d0963-68fa-4bf6-a5b0-e7e38dc0f2a0",
   "metadata": {},
   "outputs": [],
   "source": [
    "#Please check the bivariate relationship between dti and mean charged off values\n",
    "\n",
    "a = df2.loc[df2['binary_loan_status'] == 1].groupby(['dti'])['binary_loan_status'].value_counts().reset_index(name='count')\n",
    "sns.scatterplot(x=a['dti'], y=a['count'])\n",
    "a_sorted = a.sort_values('count', ascending=False)"
   ]
  },
  {
   "cell_type": "code",
   "execution_count": null,
   "id": "4524cdda-2530-4a41-80e9-a32796ff35c5",
   "metadata": {},
   "outputs": [],
   "source": [
    "bins_labels = ['0-7', '8-14', '15-21', '22-30']\n",
    "df2['dti_bins'], thresh= pd.cut(df2['dti'],[0,5,10,15,20],labels = bins_labels  , precision =1, retbins = 1)\n",
    "thresh = pd.DataFrame(zip(thresh,bins_labels))\n",
    "ab=pd.crosstab(df2['dti_bins'], df2['binary_loan_status']).apply(lambda r: r/r.sum(), axis=1)\n",
    "ab"
   ]
  },
  {
   "cell_type": "code",
   "execution_count": null,
   "id": "e4efd029-4fc6-4fe1-89a1-2f5800b32e7c",
   "metadata": {},
   "outputs": [],
   "source": [
    "dti = pd.crosstab(df2['dti_bins'], df2['binary_loan_status']).apply(lambda r: r/r.sum(), axis=1).reset_index().rename(columns={0:'Not Charged Off',1:'Charged Off'}).sort_values('Charged Off', ascending = False)\n",
    "print(dti)\n",
    "\n",
    "sns.barplot(x = 'dti_bins', y = 'Charged Off',data=dti,palette='colorblind')\n",
    "plt.xlabel(\"Debt to Income Ratio\",fontsize = 20)\n",
    "plt.ylabel(\"% Charge Off\",fontsize=20)"
   ]
  },
  {
   "cell_type": "markdown",
   "id": "028eb02d-6a30-40f5-9eb1-68451e5ed2be",
   "metadata": {},
   "source": [
    "#### As DTI increases, default rate increases too, the highest DTI bin has around ~3.2% higher default rate compared to the lowest DTI bin"
   ]
  },
  {
   "cell_type": "code",
   "execution_count": null,
   "id": "132626c8-8d0d-42d6-8226-fbb156618798",
   "metadata": {},
   "outputs": [],
   "source": [
    "pd.crosstab(df2['annual_inc_bins'], df2['dti_bins']).apply(lambda r: r/r.sum(), axis=1)"
   ]
  },
  {
   "cell_type": "markdown",
   "id": "8e9de3e3-dc70-48f5-bb93-3076fd168458",
   "metadata": {},
   "source": [
    "#### Here also we see a trend of High DTI among different annual income categories, there is 8.87% increase in High DTI when income decreases from highest to lowest category"
   ]
  },
  {
   "cell_type": "code",
   "execution_count": null,
   "id": "541e4fdf-3bac-4490-bf9f-98fcc53f4d02",
   "metadata": {},
   "outputs": [],
   "source": [
    "sns.boxplot(x='dti_bins', y='int_rate', data=df2, palette='colorblind')\n",
    "plt.xlabel(\"Debt to Income Ratio\",fontsize = 20)\n",
    "plt.ylabel(\"Interest Rates\",fontsize=20)"
   ]
  },
  {
   "cell_type": "markdown",
   "id": "e048e108-a11d-418c-88cb-d462455cae09",
   "metadata": {},
   "source": [
    "### Here we can see there is slight increase in median of interest rate as debt to income ratio increases"
   ]
  },
  {
   "cell_type": "markdown",
   "id": "5a98d446-781e-43cd-88bc-5c664d1febfa",
   "metadata": {},
   "source": [
    "### Lets explore deliquency column, we will analyse it with other variables like annual income and loan status"
   ]
  },
  {
   "cell_type": "code",
   "execution_count": null,
   "id": "94c7d596-d2ff-42ff-bed8-51f989bdbf73",
   "metadata": {},
   "outputs": [],
   "source": [
    "print(df2['delinq_2yrs'].describe())"
   ]
  },
  {
   "cell_type": "code",
   "execution_count": null,
   "id": "75a860d3-a4d4-4430-9c7a-bfd9505defb1",
   "metadata": {},
   "outputs": [],
   "source": [
    "# Count of delinquency with loan status"
   ]
  },
  {
   "cell_type": "code",
   "execution_count": null,
   "id": "8a450db7-c337-444f-a9cf-21e8e8f264a4",
   "metadata": {},
   "outputs": [],
   "source": [
    "delinq_analysis = df2.loc[(df2['delinq_2yrs']>0) ].groupby('binary_loan_status')['delinq_2yrs'].value_counts().reset_index(name='count')\n",
    "delinq_analysis.columns = ['Loan Status', 'Delinq 2yrs', 'Count']\n",
    "delinq_analysis.pivot(index = 'Delinq 2yrs', columns = 'Loan Status', values='Count').rename(columns={0:'Not Charged Off',1:'Charged Off'})\n"
   ]
  },
  {
   "cell_type": "code",
   "execution_count": null,
   "id": "8608cda2-1eb3-4458-906a-1d515b6d3c3c",
   "metadata": {},
   "outputs": [],
   "source": [
    "delinq_analysis = df2.loc[(df2['delinq_2yrs']>0) ].groupby(['annual_inc_bins', 'binary_loan_status'])['delinq_2yrs'].value_counts().reset_index(name='count')\n",
    "delinq_analysis.columns = ['Annual Income Categories', 'Loan Status', 'Delinq 2yrs', 'Count']\n",
    "print(delinq_analysis.pivot_table(index = 'Loan Status', columns = 'Annual Income Categories', values='Count').apply(lambda r: r/r.sum(), axis=1))\n"
   ]
  },
  {
   "cell_type": "markdown",
   "id": "df347ee5-6431-4dd8-a40c-c7748f1aa508",
   "metadata": {},
   "source": [
    "#### Here we see Silver category has highest percentage of charged off loans"
   ]
  },
  {
   "cell_type": "markdown",
   "id": "e7ab22ad-f74b-492a-9655-dac19ffe41ef",
   "metadata": {},
   "source": [
    "### We will split numeric and categorical columns and find their association with loan status"
   ]
  },
  {
   "cell_type": "code",
   "execution_count": null,
   "id": "5cf1ee65-fa73-43a3-b3db-18ff000a54a4",
   "metadata": {},
   "outputs": [],
   "source": [
    "numerical_cols = df2._get_numeric_data().columns.to_list()\n",
    "numerical_cols"
   ]
  },
  {
   "cell_type": "code",
   "execution_count": null,
   "id": "e9e07cc1-1269-4985-b8c4-a4bd12ea824a",
   "metadata": {},
   "outputs": [],
   "source": [
    "nu_cols =df2[numerical_cols]"
   ]
  },
  {
   "cell_type": "code",
   "execution_count": null,
   "id": "65d1bd70-a9e1-49e3-8623-233d848f0aab",
   "metadata": {},
   "outputs": [],
   "source": [
    "plt.figure(figsize=(15,15))\n",
    "splot = sns.heatmap(nu_cols.corr(), annot = True, fmt = '.1g',vmin=-1, vmax=1, center= 0,linewidths=3, linecolor='black')\n",
    "sns.set(font_scale=1)\n",
    "splot.tick_params(labelsize=15)\n"
   ]
  },
  {
   "cell_type": "code",
   "execution_count": null,
   "id": "16892c07-63a9-4f34-990b-1303846816e3",
   "metadata": {},
   "outputs": [],
   "source": [
    "df_correlation = df2[['installment','loan_amnt', 'funded_amnt', 'pub_rec_bankruptcies','annual_inc','dti', 'int_rate']]\n",
    "loan_correlation = df_correlation.corr()\n",
    "sns.set(font_scale=1.1)\n",
    "sns.clustermap(loan_correlation,annot=True,figsize=(12, 8),cmap=\"BrBG\")\n",
    "plt.show()"
   ]
  },
  {
   "cell_type": "markdown",
   "id": "7508c22f-0ee7-4267-9af0-b460019f8d12",
   "metadata": {},
   "source": [
    "### Distribution of Annual Income Over Loan Amount"
   ]
  },
  {
   "cell_type": "code",
   "execution_count": null,
   "id": "b7ab453f-05e1-4c46-a6c8-b86ca9858061",
   "metadata": {},
   "outputs": [],
   "source": [
    "g=sns.jointplot(x = 'annual_inc', y = 'loan_amnt', data=df2.loc[df2['annual_inc']<260000],palette='colorblind')\n",
    "g.set_axis_labels('Annual Income', 'Loan amount', fontsize=16)\n",
    "g.fig.suptitle('Distribution of Annual Income Over Loan Amount', fontsize=16)\n",
    "g.fig.tight_layout()\n",
    "plt.show()\n"
   ]
  },
  {
   "cell_type": "markdown",
   "id": "117549d3-cb92-4678-b926-8c5776e1c5e7",
   "metadata": {},
   "source": [
    "### Creating bins of revol util and plotting it against % of charge off"
   ]
  },
  {
   "cell_type": "code",
   "execution_count": null,
   "id": "a88345ea-9f8c-43f6-8307-e1cad8809bf5",
   "metadata": {},
   "outputs": [],
   "source": [
    "df2['revol_util_bin'] = round(df2['revol_util']/5)"
   ]
  },
  {
   "cell_type": "code",
   "execution_count": null,
   "id": "a506bfe4-db37-4123-a586-c70edfe41303",
   "metadata": {},
   "outputs": [],
   "source": [
    "## Function to show labels in bar plots\n",
    "def showLabels(ax, d=None):\n",
    "    plt.margins(0.2, 0.2)\n",
    "    rects = ax.patches\n",
    "    i = 0\n",
    "    locs, labels = plt.xticks() \n",
    "    counts = {}\n",
    "    if not d is None:\n",
    "        for key, value in d.items():\n",
    "            counts[str(key)] = value\n",
    "\n",
    "    # For each bar: Place a label\n",
    "    for rect in rects:\n",
    "        # Get X and Y placement of label from rect.\n",
    "        y_value = rect.get_height()\n",
    "        x_value = rect.get_x() + rect.get_width() / 2\n",
    "\n",
    "        # Number of points between bar and label. Change to your liking.\n",
    "        space = 5\n",
    "        # Vertical alignment for positive values\n",
    "        va = 'bottom'\n",
    "\n",
    "        # If value of bar is negative: Place label below bar\n",
    "        if y_value < 0:\n",
    "            # Invert space to place label below\n",
    "            space *= -1\n",
    "            # Vertically align label at top\n",
    "            va = 'top'\n",
    "\n",
    "        # Use Y value as label and format number with one decimal place\n",
    "        if d is None:\n",
    "            label = \"{:.1f}%\".format(y_value)\n",
    "        else:\n",
    "            try:\n",
    "                label = \"{:.1f}%\".format(y_value) + \"\\nof \" + str(counts[str(labels[i].get_text())])\n",
    "            except:\n",
    "                label = \"{:.1f}%\".format(y_value)\n",
    "        \n",
    "        i = i+1\n",
    "\n",
    "        # Create annotation\n",
    "        plt.annotate(\n",
    "            label,                      # Use `label` as label\n",
    "            (x_value, y_value),         # Place label at end of the bar\n",
    "            xytext=(0, space),          # Vertically shift label by `space`\n",
    "            textcoords=\"offset points\", # Interpret `xytext` as offset in points\n",
    "            ha='center',                # Horizontally center label\n",
    "            va=va)                      # Vertically align label differently for\n",
    "                                        # positive and negative values."
   ]
  },
  {
   "cell_type": "code",
   "execution_count": null,
   "id": "ebbbdba8-1630-4ca7-8fe7-0e0204813715",
   "metadata": {},
   "outputs": [],
   "source": [
    "\n",
    "def plotLoanStatus(dataframe, by, loanstatus='Charged Off'):\n",
    "    grp = dataframe.groupby(['loan_status',by])[by].count()\n",
    "    cnt = dataframe.groupby(by)[by].count()\n",
    "    \n",
    "    percentages = grp.unstack() * 100 / cnt.T\n",
    "    \n",
    "    ax = percentages.loc[loanstatus].plot.bar(color=sns.color_palette('husl', 16))\n",
    "    ax.set_ylabel('% of loans ' + loanstatus)\n",
    "    showLabels(ax, grp[loanstatus].to_dict())\n",
    "    plt.margins(0.2, 0.2)\n",
    "    plt.tight_layout()\n",
    "    return ax\n",
    "ax = plotLoanStatus(df2, 'revol_util_bin')\n",
    "ax.set_xticklabels([(str(float(x.get_text())*5)+'%') for x in ax.get_xticklabels()])\n",
    "plt.ylabel(\"% Charge Off\",fontsize = 20)\n",
    "plt.xlabel(\"Revolving Utilization Bins\",fontsize=20)\n",
    "plt.show()"
   ]
  },
  {
   "cell_type": "code",
   "execution_count": null,
   "id": "04ce40c5-64cd-446f-b2d4-f1131ea31b36",
   "metadata": {},
   "outputs": [],
   "source": []
  },
  {
   "cell_type": "code",
   "execution_count": null,
   "id": "1105dfce-3b2f-4537-aecf-06769edff24c",
   "metadata": {},
   "outputs": [],
   "source": [
    "g = sns.jointplot(x='revol_util', y='loan_amnt', data=df2)\n",
    "g.set_axis_labels('Revolving Utilization', 'Loan Amount', fontsize=16)\n",
    "\n",
    "# Adjust the layout\n",
    "plt.tight_layout()\n",
    "plt.show()"
   ]
  },
  {
   "cell_type": "markdown",
   "id": "f0d2e872-f5c2-4df3-ba10-b07540e02f73",
   "metadata": {},
   "source": [
    "### Distribution of Loan Amount Over Debt to Income Ratio'"
   ]
  },
  {
   "cell_type": "code",
   "execution_count": null,
   "id": "5d3819cb-d126-4caa-b791-c59854b2c86a",
   "metadata": {},
   "outputs": [],
   "source": [
    "g=sns.jointplot(x = 'dti', y ='loan_amnt', data=df2,palette='colorblind')\n",
    "plt.xlabel(\"Debt to Income Ratio\",fontsize = 20)\n",
    "plt.ylabel(\"Loan Amount\",fontsize=20)\n",
    "g.fig.suptitle('Distribution of Loan Amount Over Debt to Income Ratio', fontsize=16)\n",
    "g.fig.tight_layout()\n",
    "plt.show()"
   ]
  },
  {
   "cell_type": "markdown",
   "id": "5afbf2aa-b806-4430-b962-2d25d59f4be7",
   "metadata": {},
   "source": [
    "### Distribution of Interest Rate over Debt to Income Ratio"
   ]
  },
  {
   "cell_type": "code",
   "execution_count": null,
   "id": "86c6fdea-634d-4575-9d8f-b3c2638e0153",
   "metadata": {},
   "outputs": [],
   "source": [
    "g=sns.jointplot(x ='dti' , y = 'int_rate', data=df2,palette='colorblind')\n",
    "plt.xlabel(\"Debt to Income Ratio\",fontsize = 20)\n",
    "plt.ylabel(\"Interest Rate\",fontsize=20)\n",
    "g.fig.suptitle('Distribution of Interest Rate over Debt to Income Ratio', fontsize=16)\n",
    "g.fig.tight_layout()\n",
    "plt.show()"
   ]
  },
  {
   "cell_type": "code",
   "execution_count": null,
   "id": "a77ad960-0672-46c0-b072-9a6a2710f40a",
   "metadata": {},
   "outputs": [],
   "source": []
  },
  {
   "cell_type": "code",
   "execution_count": null,
   "id": "015e7f5e-83ea-406e-82a2-e169cbe3bbae",
   "metadata": {},
   "outputs": [],
   "source": []
  },
  {
   "cell_type": "code",
   "execution_count": null,
   "id": "4116bb2b-d782-41fa-b0fe-0ccd86a25e95",
   "metadata": {},
   "outputs": [],
   "source": []
  }
 ],
 "metadata": {
  "kernelspec": {
   "display_name": "Python 3 (ipykernel)",
   "language": "python",
   "name": "python3"
  },
  "language_info": {
   "codemirror_mode": {
    "name": "ipython",
    "version": 3
   },
   "file_extension": ".py",
   "mimetype": "text/x-python",
   "name": "python",
   "nbconvert_exporter": "python",
   "pygments_lexer": "ipython3",
   "version": "3.12.4"
  }
 },
 "nbformat": 4,
 "nbformat_minor": 5
}
